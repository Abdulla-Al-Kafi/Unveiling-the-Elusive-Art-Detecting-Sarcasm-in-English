{
 "cells": [
  {
   "cell_type": "code",
   "execution_count": 164,
   "metadata": {
    "colab": {
     "base_uri": "https://localhost:8080/"
    },
    "executionInfo": {
     "elapsed": 4355,
     "status": "ok",
     "timestamp": 1693421700883,
     "user": {
      "displayName": "RISAT RAHAMAN",
      "userId": "06017538946174707181"
     },
     "user_tz": -360
    },
    "id": "cXxEl3UtDMX6",
    "outputId": "2dbcbb33-6ba4-432d-bfd7-d6b4aef966aa"
   },
   "outputs": [
    {
     "name": "stdout",
     "output_type": "stream",
     "text": [
      "Drive already mounted at /content/drive; to attempt to forcibly remount, call drive.mount(\"/content/drive\", force_remount=True).\n"
     ]
    }
   ],
   "source": [
    "# IMPORTANT: Must Run all the code cells step by step\n",
    "# Create a folder \"CSE440 Project\" in \"My Drive\" and put all the required files there\n",
    "# Required files: glove.6B.100d.txt, train.En.csv, task_A_En_test.csv, task_B_En_test.csv\n",
    "\n",
    "# Mounting google drive to access the files (Must Run)\n",
    "from google.colab import drive\n",
    "drive.mount('/content/drive')"
   ]
  },
  {
   "cell_type": "code",
   "execution_count": 165,
   "metadata": {
    "executionInfo": {
     "elapsed": 5,
     "status": "ok",
     "timestamp": 1693421700883,
     "user": {
      "displayName": "RISAT RAHAMAN",
      "userId": "06017538946174707181"
     },
     "user_tz": -360
    },
    "id": "OLS-clR6DVFW"
   },
   "outputs": [],
   "source": [
    "# Importing all the necessary libraries (Must Run)\n",
    "\n",
    "import pandas as pd\n",
    "import numpy as np\n",
    "from sklearn.metrics import confusion_matrix, accuracy_score, precision_score, recall_score, f1_score, classification_report, precision_recall_fscore_support, precision_recall_curve\n",
    "from tensorflow import keras\n",
    "from keras.callbacks import ModelCheckpoint, CSVLogger, EarlyStopping\n",
    "from tensorflow.keras.models import load_model\n",
    "from keras.preprocessing.text import Tokenizer\n",
    "from tensorflow.keras.preprocessing.sequence import pad_sequences\n",
    "from keras.models import Sequential\n",
    "from keras.layers import Embedding, LSTM, GRU, Dense, Dropout, SimpleRNN\n",
    "import seaborn as sns\n",
    "from statistics import median"
   ]
  },
  {
   "cell_type": "code",
   "execution_count": 166,
   "metadata": {
    "executionInfo": {
     "elapsed": 3,
     "status": "ok",
     "timestamp": 1693421700883,
     "user": {
      "displayName": "RISAT RAHAMAN",
      "userId": "06017538946174707181"
     },
     "user_tz": -360
    },
    "id": "fLMjHm-nDek3"
   },
   "outputs": [],
   "source": [
    "# Importing train and task A files from the \"CSE440 Project\" folder\n",
    "url_train = '/content/drive/My Drive/CSE440 Project/train.En.csv'\n",
    "url_test = '/content/drive/My Drive/CSE440 Project/task_A_En_test.csv'\n",
    "train_dataset = pd.read_csv(url_train)\n",
    "test_dataset = pd.read_csv(url_test)"
   ]
  },
  {
   "cell_type": "code",
   "execution_count": 167,
   "metadata": {
    "executionInfo": {
     "elapsed": 3,
     "status": "ok",
     "timestamp": 1693421700883,
     "user": {
      "displayName": "RISAT RAHAMAN",
      "userId": "06017538946174707181"
     },
     "user_tz": -360
    },
    "id": "3hJvzm7tDzK0"
   },
   "outputs": [],
   "source": [
    "# Filtering out the train and test dataset\n",
    "train_dataset = train_dataset[train_dataset['tweet'].notnull()]\n",
    "test_dataset = test_dataset[test_dataset['text'].notnull()]\n",
    "\n",
    "# Seperating the dataset into corresponding variables\n",
    "x_train, y_train, x_test, y_test = train_dataset['tweet'], train_dataset['sarcastic'], test_dataset['text'], test_dataset['sarcastic']"
   ]
  },
  {
   "cell_type": "code",
   "execution_count": 168,
   "metadata": {
    "executionInfo": {
     "elapsed": 3,
     "status": "ok",
     "timestamp": 1693421700884,
     "user": {
      "displayName": "RISAT RAHAMAN",
      "userId": "06017538946174707181"
     },
     "user_tz": -360
    },
    "id": "603BDI3YD95V"
   },
   "outputs": [],
   "source": [
    "# Create a Tokenizer instance\n",
    "tokenizer = Tokenizer(num_words=100, oov_token=\"<OOV>\")  # num_words is the maximum number of words to keep\n",
    "\n",
    "# Fit the tokenizer on the texts\n",
    "tokenizer.fit_on_texts(x_train)\n",
    "\n",
    "# Convert the texts to sequences of integers\n",
    "train_sequences = tokenizer.texts_to_sequences(x_train)\n",
    "test_sequences = tokenizer.texts_to_sequences(x_test)\n",
    "\n",
    "# Pad the sequences to a fixed length\n",
    "max_sequence_length_train = max(len(seq) for seq in train_sequences)\n",
    "max_sequence_length_test = max(len(seq) for seq in test_sequences)\n",
    "max_sequence_length = max(max_sequence_length_train, max_sequence_length_test)\n",
    "\n",
    "padded_sequences_train = pad_sequences(train_sequences, maxlen=max_sequence_length, padding=\"post\", truncating=\"post\")\n",
    "padded_sequences_test = pad_sequences(test_sequences, maxlen=max_sequence_length, padding=\"post\", truncating=\"post\")"
   ]
  },
  {
   "cell_type": "code",
   "execution_count": 169,
   "metadata": {
    "executionInfo": {
     "elapsed": 12415,
     "status": "ok",
     "timestamp": 1693421713296,
     "user": {
      "displayName": "RISAT RAHAMAN",
      "userId": "06017538946174707181"
     },
     "user_tz": -360
    },
    "id": "fVmWYogAEYNJ"
   },
   "outputs": [],
   "source": [
    "# Load pre-trained GloVe embeddings (Must Run)\n",
    "glove_embeddings_index = {}\n",
    "\n",
    "glove = '/content/drive/My Drive/CSE440 Project/glove.6B.100d.txt'\n",
    "with open(glove, encoding='utf-8') as f:\n",
    "    for line in f:\n",
    "        values = line.split()\n",
    "        word = values[0]\n",
    "        coefs = np.asarray(values[1:], dtype='float32')\n",
    "        glove_embeddings_index[word] = coefs\n",
    "\n",
    "# Create an embedding matrix\n",
    "embedding_dim = 100\n",
    "embedding_matrix = np.zeros((len(tokenizer.word_index) + 1, embedding_dim))\n",
    "for word, i in tokenizer.word_index.items():\n",
    "    embedding_vector = glove_embeddings_index.get(word)\n",
    "    if embedding_vector is not None:\n",
    "        embedding_matrix[i] = embedding_vector"
   ]
  },
  {
   "cell_type": "code",
   "execution_count": 170,
   "metadata": {
    "executionInfo": {
     "elapsed": 10,
     "status": "ok",
     "timestamp": 1693421713297,
     "user": {
      "displayName": "RISAT RAHAMAN",
      "userId": "06017538946174707181"
     },
     "user_tz": -360
    },
    "id": "bVMouER3EbD5"
   },
   "outputs": [],
   "source": [
    "# GRU\n",
    "\n",
    "def gru_function(y_train, y_test):\n",
    "\n",
    "  # Build the GRU model with pre-trained embeddings\n",
    "  model = Sequential([\n",
    "      Embedding(input_dim=len(tokenizer.word_index) + 1, output_dim=embedding_dim, weights=[embedding_matrix], input_length=max_sequence_length, trainable=False),\n",
    "      GRU(64),\n",
    "      Dense(1, activation='sigmoid')\n",
    "  ])\n",
    "\n",
    "  # Compile the model\n",
    "  model.compile(optimizer='adam', loss='binary_crossentropy', metrics=['accuracy'])\n",
    "\n",
    "  # Define callbacks\n",
    "  filePath = '/content/drive/My Drive/CSE440 Project/modelStoreGRU.h5'  # Specify the path for the model checkpoint\n",
    "  checkpoint = ModelCheckpoint(filePath, monitor='val_accuracy', verbose=1, save_best_only=True, mode='max')\n",
    "  csv_logger = CSVLogger('/content/drive/My Drive/CSE440 Project/trainingGRU.log')\n",
    "  early_stopping = EarlyStopping(monitor='val_loss', patience=5)\n",
    "  callbacks_list = [checkpoint, csv_logger, early_stopping]\n",
    "\n",
    "  # Train the model\n",
    "  model.fit(padded_sequences_train, y_train, epochs=500, validation_split=0.1, callbacks=callbacks_list)\n",
    "\n",
    "  # Evaluate the model (replace with your test data)\n",
    "  loss, accuracy = model.evaluate(padded_sequences_test, y_test)\n",
    "\n",
    "  return loss, accuracy"
   ]
  },
  {
   "cell_type": "code",
   "execution_count": 171,
   "metadata": {
    "executionInfo": {
     "elapsed": 7,
     "status": "ok",
     "timestamp": 1693421713297,
     "user": {
      "displayName": "RISAT RAHAMAN",
      "userId": "06017538946174707181"
     },
     "user_tz": -360
    },
    "id": "pJ_kGz8zFn9O"
   },
   "outputs": [],
   "source": [
    "# LSTM\n",
    "\n",
    "def lstm_function(y_train, y_test):\n",
    "  # Build the LSTM model with pre-trained embeddings\n",
    "  model = Sequential([\n",
    "      Embedding(input_dim=len(tokenizer.word_index) + 1, output_dim=embedding_dim, weights=[embedding_matrix], input_length=max_sequence_length, trainable=False),\n",
    "      LSTM(64),\n",
    "      Dense(1, activation='sigmoid')\n",
    "  ])\n",
    "\n",
    "  # Compile the model\n",
    "  model.compile(optimizer='adam', loss='binary_crossentropy', metrics=['accuracy'])\n",
    "\n",
    "  filePath = '/content/drive/My Drive/CSE440 Project/modelStoreLSTM.h5'  # Specify the path for the model checkpoint\n",
    "  checkpoint = ModelCheckpoint(filePath, monitor='val_accuracy', verbose=1, save_best_only=True, mode='max')\n",
    "  csv_logger = CSVLogger('/content/drive/My Drive/CSE440 Project/trainingLSTM.log')\n",
    "  early_stopping = EarlyStopping(monitor='val_loss', patience=5)\n",
    "  callbacks_list = [checkpoint, csv_logger, early_stopping]\n",
    "\n",
    "  # Train Machine\n",
    "  model.fit(padded_sequences_train, y_train, epochs=500, validation_split=0.1, callbacks=callbacks_list)\n",
    "\n",
    "  # Evaluate the model\n",
    "  loss, accuracy = model.evaluate(padded_sequences_test, y_test)\n",
    "\n",
    "  return loss, accuracy"
   ]
  },
  {
   "cell_type": "code",
   "execution_count": 172,
   "metadata": {
    "colab": {
     "base_uri": "https://localhost:8080/"
    },
    "executionInfo": {
     "elapsed": 231195,
     "status": "ok",
     "timestamp": 1693421944487,
     "user": {
      "displayName": "RISAT RAHAMAN",
      "userId": "06017538946174707181"
     },
     "user_tz": -360
    },
    "id": "7iKalBURJ_SZ",
    "outputId": "a6115b17-d07c-4b8c-d31e-27b9b067fd2f"
   },
   "outputs": [
    {
     "name": "stdout",
     "output_type": "stream",
     "text": [
      "Epoch 1/500\n",
      "98/98 [==============================] - ETA: 0s - loss: 0.6084 - accuracy: 0.7221\n",
      "Epoch 1: val_accuracy improved from -inf to 1.00000, saving model to /content/drive/My Drive/CSE440 Project/modelStoreGRU.h5\n",
      "98/98 [==============================] - 12s 98ms/step - loss: 0.6084 - accuracy: 0.7221 - val_loss: 0.3060 - val_accuracy: 1.0000\n",
      "Epoch 2/500\n",
      "98/98 [==============================] - ETA: 0s - loss: 0.5926 - accuracy: 0.7221\n",
      "Epoch 2: val_accuracy did not improve from 1.00000\n",
      "98/98 [==============================] - 9s 91ms/step - loss: 0.5926 - accuracy: 0.7221 - val_loss: 0.3668 - val_accuracy: 1.0000\n",
      "Epoch 3/500\n",
      "98/98 [==============================] - ETA: 0s - loss: 0.5927 - accuracy: 0.7221\n",
      "Epoch 3: val_accuracy did not improve from 1.00000\n",
      "98/98 [==============================] - 10s 102ms/step - loss: 0.5927 - accuracy: 0.7221 - val_loss: 0.3394 - val_accuracy: 1.0000\n",
      "Epoch 4/500\n",
      "98/98 [==============================] - ETA: 0s - loss: 0.5926 - accuracy: 0.7221\n",
      "Epoch 4: val_accuracy did not improve from 1.00000\n",
      "98/98 [==============================] - 8s 82ms/step - loss: 0.5926 - accuracy: 0.7221 - val_loss: 0.3653 - val_accuracy: 1.0000\n",
      "Epoch 5/500\n",
      "98/98 [==============================] - ETA: 0s - loss: 0.5935 - accuracy: 0.7221\n",
      "Epoch 5: val_accuracy did not improve from 1.00000\n",
      "98/98 [==============================] - 10s 102ms/step - loss: 0.5935 - accuracy: 0.7221 - val_loss: 0.3463 - val_accuracy: 1.0000\n",
      "Epoch 6/500\n",
      "98/98 [==============================] - ETA: 0s - loss: 0.5909 - accuracy: 0.7221\n",
      "Epoch 6: val_accuracy did not improve from 1.00000\n",
      "98/98 [==============================] - 10s 102ms/step - loss: 0.5909 - accuracy: 0.7221 - val_loss: 0.3705 - val_accuracy: 1.0000\n",
      "44/44 [==============================] - 1s 22ms/step - loss: 0.4850 - accuracy: 0.8571\n",
      "Epoch 1/500\n",
      "98/98 [==============================] - ETA: 0s - loss: 0.6092 - accuracy: 0.7218\n",
      "Epoch 1: val_accuracy improved from -inf to 1.00000, saving model to /content/drive/My Drive/CSE440 Project/modelStoreLSTM.h5\n",
      "98/98 [==============================] - 12s 100ms/step - loss: 0.6092 - accuracy: 0.7218 - val_loss: 0.4189 - val_accuracy: 1.0000\n",
      "Epoch 2/500\n",
      "98/98 [==============================] - ETA: 0s - loss: 0.5963 - accuracy: 0.7221\n",
      "Epoch 2: val_accuracy did not improve from 1.00000\n",
      "98/98 [==============================] - 8s 81ms/step - loss: 0.5963 - accuracy: 0.7221 - val_loss: 0.4204 - val_accuracy: 1.0000\n",
      "Epoch 3/500\n",
      "98/98 [==============================] - ETA: 0s - loss: 0.5919 - accuracy: 0.7221\n",
      "Epoch 3: val_accuracy did not improve from 1.00000\n",
      "98/98 [==============================] - 10s 99ms/step - loss: 0.5919 - accuracy: 0.7221 - val_loss: 0.2934 - val_accuracy: 1.0000\n",
      "Epoch 4/500\n",
      "98/98 [==============================] - ETA: 0s - loss: 0.5935 - accuracy: 0.7221\n",
      "Epoch 4: val_accuracy did not improve from 1.00000\n",
      "98/98 [==============================] - 8s 78ms/step - loss: 0.5935 - accuracy: 0.7221 - val_loss: 0.3629 - val_accuracy: 1.0000\n",
      "Epoch 5/500\n",
      "98/98 [==============================] - ETA: 0s - loss: 0.5935 - accuracy: 0.7221\n",
      "Epoch 5: val_accuracy did not improve from 1.00000\n",
      "98/98 [==============================] - 10s 101ms/step - loss: 0.5935 - accuracy: 0.7221 - val_loss: 0.3681 - val_accuracy: 1.0000\n",
      "Epoch 6/500\n",
      "98/98 [==============================] - ETA: 0s - loss: 0.5915 - accuracy: 0.7221\n",
      "Epoch 6: val_accuracy did not improve from 1.00000\n",
      "98/98 [==============================] - 9s 96ms/step - loss: 0.5915 - accuracy: 0.7221 - val_loss: 0.3379 - val_accuracy: 1.0000\n",
      "Epoch 7/500\n",
      "98/98 [==============================] - ETA: 0s - loss: 0.5923 - accuracy: 0.7221\n",
      "Epoch 7: val_accuracy did not improve from 1.00000\n",
      "98/98 [==============================] - 8s 82ms/step - loss: 0.5923 - accuracy: 0.7221 - val_loss: 0.2931 - val_accuracy: 1.0000\n",
      "Epoch 8/500\n",
      "98/98 [==============================] - ETA: 0s - loss: 0.5912 - accuracy: 0.7221\n",
      "Epoch 8: val_accuracy did not improve from 1.00000\n",
      "98/98 [==============================] - 10s 100ms/step - loss: 0.5912 - accuracy: 0.7221 - val_loss: 0.3520 - val_accuracy: 1.0000\n",
      "Epoch 9/500\n",
      "98/98 [==============================] - ETA: 0s - loss: 0.5916 - accuracy: 0.7221\n",
      "Epoch 9: val_accuracy did not improve from 1.00000\n",
      "98/98 [==============================] - 8s 79ms/step - loss: 0.5916 - accuracy: 0.7221 - val_loss: 0.3593 - val_accuracy: 1.0000\n",
      "Epoch 10/500\n",
      "98/98 [==============================] - ETA: 0s - loss: 0.5912 - accuracy: 0.7221\n",
      "Epoch 10: val_accuracy did not improve from 1.00000\n",
      "98/98 [==============================] - 10s 98ms/step - loss: 0.5912 - accuracy: 0.7221 - val_loss: 0.3185 - val_accuracy: 1.0000\n",
      "Epoch 11/500\n",
      "98/98 [==============================] - ETA: 0s - loss: 0.5922 - accuracy: 0.7221\n",
      "Epoch 11: val_accuracy did not improve from 1.00000\n",
      "98/98 [==============================] - 10s 98ms/step - loss: 0.5922 - accuracy: 0.7221 - val_loss: 0.3610 - val_accuracy: 1.0000\n",
      "Epoch 12/500\n",
      "98/98 [==============================] - ETA: 0s - loss: 0.5919 - accuracy: 0.7221\n",
      "Epoch 12: val_accuracy did not improve from 1.00000\n",
      "98/98 [==============================] - 8s 78ms/step - loss: 0.5919 - accuracy: 0.7221 - val_loss: 0.3216 - val_accuracy: 1.0000\n",
      "44/44 [==============================] - 1s 25ms/step - loss: 0.4606 - accuracy: 0.8564\n"
     ]
    }
   ],
   "source": [
    "gru_loss, gru_accuracy =  gru_function(y_train, y_test)\n",
    "lstm_loss, lstm_accuracy =  lstm_function(y_train, y_test)"
   ]
  },
  {
   "cell_type": "code",
   "execution_count": 173,
   "metadata": {
    "colab": {
     "base_uri": "https://localhost:8080/"
    },
    "executionInfo": {
     "elapsed": 4,
     "status": "ok",
     "timestamp": 1693421944487,
     "user": {
      "displayName": "RISAT RAHAMAN",
      "userId": "06017538946174707181"
     },
     "user_tz": -360
    },
    "id": "ccwS3wb7P3Pv",
    "outputId": "78bb3354-7ec6-48d6-9e0a-5cca8e649033"
   },
   "outputs": [
    {
     "name": "stdout",
     "output_type": "stream",
     "text": [
      "GRU loss: 48.5\n",
      "LSTM loss: 46.06\n",
      "GRU accuracy: 85.71\n",
      "LSTM accuracy: 85.64\n"
     ]
    }
   ],
   "source": [
    "print(\"GRU loss:\", round(gru_loss * 100, 2))\n",
    "print(\"LSTM loss:\", round(lstm_loss * 100, 2))\n",
    "\n",
    "print(\"GRU accuracy:\", round(gru_accuracy * 100, 2))\n",
    "print(\"LSTM accuracy:\", round(lstm_accuracy * 100, 2))"
   ]
  },
  {
   "cell_type": "code",
   "execution_count": 174,
   "metadata": {
    "colab": {
     "base_uri": "https://localhost:8080/"
    },
    "executionInfo": {
     "elapsed": 4031,
     "status": "ok",
     "timestamp": 1693421948516,
     "user": {
      "displayName": "RISAT RAHAMAN",
      "userId": "06017538946174707181"
     },
     "user_tz": -360
    },
    "id": "rZ48dbpuGwTB",
    "outputId": "2032333a-41b4-49c8-fcb1-06124014be10"
   },
   "outputs": [
    {
     "name": "stdout",
     "output_type": "stream",
     "text": [
      "44/44 [==============================] - 2s 24ms/step\n"
     ]
    }
   ],
   "source": [
    "# Task A calculate precision, recall, f1 and confusion matrix\n",
    "\n",
    "# Load trained model\n",
    "model = load_model('/content/drive/My Drive/CSE440 Project/modelStoreLSTM.h5')\n",
    "\n",
    "# Get predictions using model.predict\n",
    "y_pred = model.predict(padded_sequences_test)\n",
    "\n",
    "# Calculate threshold\n",
    "precision, recall, thresholds = precision_recall_curve(y_test, y_pred)\n",
    "f1_scores = 2 * (precision * recall) / (precision + recall + 1e-8)\n",
    "best_f1_index = np.argmax(f1_scores)\n",
    "threshold = thresholds[best_f1_index]\n",
    "\n",
    "# Convert probabilities to class labels\n",
    "y_pred = (y_pred > threshold).astype(int)\n",
    "precision, recall, f1, support = precision_recall_fscore_support(y_test, y_pred, pos_label=1)"
   ]
  },
  {
   "cell_type": "code",
   "execution_count": 175,
   "metadata": {
    "colab": {
     "base_uri": "https://localhost:8080/"
    },
    "executionInfo": {
     "elapsed": 4,
     "status": "ok",
     "timestamp": 1693421948516,
     "user": {
      "displayName": "RISAT RAHAMAN",
      "userId": "06017538946174707181"
     },
     "user_tz": -360
    },
    "id": "UBe6x8LqQGfw",
    "outputId": "4f6311ea-3f7c-4478-c6c4-8bfc1e1934c5"
   },
   "outputs": [
    {
     "name": "stdout",
     "output_type": "stream",
     "text": [
      "precision_score: 0.9\n",
      "recall: 0.8\n",
      "F1_score: 0.85\n"
     ]
    }
   ],
   "source": [
    "print(\"precision_score:\", round(precision[0], 2))\n",
    "print(\"recall:\", round(recall[0], 2))\n",
    "print(\"F1_score:\", round(f1[0], 2))"
   ]
  },
  {
   "cell_type": "code",
   "execution_count": 176,
   "metadata": {
    "colab": {
     "base_uri": "https://localhost:8080/",
     "height": 447
    },
    "executionInfo": {
     "elapsed": 2015,
     "status": "ok",
     "timestamp": 1693421950529,
     "user": {
      "displayName": "RISAT RAHAMAN",
      "userId": "06017538946174707181"
     },
     "user_tz": -360
    },
    "id": "XWSVkj_7fwIv",
    "outputId": "cc0252db-5e32-4f91-e234-6bb77dd865e1"
   },
   "outputs": [
    {
     "data": {
      "text/plain": [
       "<Axes: >"
      ]
     },
     "execution_count": 176,
     "metadata": {},
     "output_type": "execute_result"
    },
    {
     "data": {
      "image/png": "[encoded data removed]",
      "text/plain": [
       "<Figure size 640x480 with 2 Axes>"
      ]
     },
     "metadata": {},
     "output_type": "display_data"
    }
   ],
   "source": [
    "cm = confusion_matrix(y_test, y_pred)\n",
    "sns.heatmap(cm, annot=True, cmap='Pastel1_r', xticklabels=['Sarcastic' ,'Not Sarcastic'],yticklabels=['Sarcastic' ,'Not Sarcastic'])"
   ]
  },
  {
   "cell_type": "code",
   "execution_count": 177,
   "metadata": {
    "executionInfo": {
     "elapsed": 5,
     "status": "ok",
     "timestamp": 1693421950529,
     "user": {
      "displayName": "RISAT RAHAMAN",
      "userId": "06017538946174707181"
     },
     "user_tz": -360
    },
    "id": "hbbZiTg1eKQP"
   },
   "outputs": [],
   "source": [
    "###### TASK B ######\n",
    "# Calculate for 6 features\n",
    "\n",
    "train = '/content/drive/My Drive/CSE440 Project/train.En.csv'\n",
    "test = '/content/drive/My Drive/CSE440 Project/task_B_En_test.csv'\n",
    "train_dataset = pd.read_csv(train)\n",
    "test_dataset = pd.read_csv(test)\n",
    "\n",
    "train_dataset = train_dataset[train_dataset['tweet'].notnull()]\n",
    "test_dataset = test_dataset[test_dataset['text'].notnull()]"
   ]
  },
  {
   "cell_type": "code",
   "execution_count": 178,
   "metadata": {
    "executionInfo": {
     "elapsed": 5,
     "status": "ok",
     "timestamp": 1693421950529,
     "user": {
      "displayName": "RISAT RAHAMAN",
      "userId": "06017538946174707181"
     },
     "user_tz": -360
    },
    "id": "kimn3MMgf_Cf"
   },
   "outputs": [],
   "source": [
    "# Filtering out train and test data\n",
    "x_train, y_train = train_dataset['rephrase'], pd.concat([train_dataset['sarcasm'], train_dataset['irony'], train_dataset['satire'], train_dataset['understatement'], train_dataset['overstatement'], train_dataset['rhetorical_question']], axis=1)\n",
    "x_train, y_train = x_train.dropna(), y_train.dropna()\n",
    "\n",
    "x_test, y_test = test_dataset['text'], pd.concat([test_dataset['sarcasm'], test_dataset['irony'], test_dataset['satire'], test_dataset['understatement'],  test_dataset['overstatement'], test_dataset['rhetorical_question']], axis=1)\n",
    "x_test, y_test = x_test.dropna(), y_test.dropna()\n",
    "\n",
    "# Train features: sarcasm, irony, satire, understatement, overstatement, rhetorical_question\n",
    "y_train_sarcasm, y_train_irony, y_train_satire, y_train_understatement, y_train_overstatement, y_train_question = y_train['sarcasm'], y_train['irony'], y_train['satire'], y_train['understatement'], y_train['overstatement'], y_train['rhetorical_question']\n",
    "\n",
    "# Test features: sarcasm, irony, satire, understatement, overstatement, rhetorical_question\n",
    "y_test_sarcasm, y_test_irony, y_test_satire, y_test_understatement, y_test_overstatement, y_test_question = y_test['sarcasm'], y_test['irony'], y_test['satire'], y_test['understatement'], y_test['overstatement'], y_test['rhetorical_question']"
   ]
  },
  {
   "cell_type": "code",
   "execution_count": 179,
   "metadata": {
    "executionInfo": {
     "elapsed": 4,
     "status": "ok",
     "timestamp": 1693421950529,
     "user": {
      "displayName": "RISAT RAHAMAN",
      "userId": "06017538946174707181"
     },
     "user_tz": -360
    },
    "id": "2F6LMRWegb5B"
   },
   "outputs": [],
   "source": [
    "# Create a Tokenizer instance\n",
    "tokenizer = Tokenizer(num_words=100, oov_token=\"<OOV>\")  # num_words is the maximum number of words to keep\n",
    "\n",
    "# Fit the tokenizer on the texts\n",
    "tokenizer.fit_on_texts(x_train)\n",
    "\n",
    "# Convert the texts to sequences of integers\n",
    "train_sequences = tokenizer.texts_to_sequences(x_train)\n",
    "test_sequences = tokenizer.texts_to_sequences(x_test)\n",
    "\n",
    "# Pad the sequences to a fixed length\n",
    "max_sequence_length_train = max(len(seq) for seq in train_sequences)\n",
    "max_sequence_length_test = max(len(seq) for seq in test_sequences)\n",
    "max_sequence_length = max(max_sequence_length_train, max_sequence_length_test)\n",
    "padded_sequences_train = pad_sequences(train_sequences, maxlen=max_sequence_length, padding=\"post\", truncating=\"post\")\n",
    "\n",
    "padded_sequences_test = pad_sequences(test_sequences, maxlen=max_sequence_length, padding=\"post\", truncating=\"post\")"
   ]
  },
  {
   "cell_type": "code",
   "execution_count": 180,
   "metadata": {
    "executionInfo": {
     "elapsed": 12372,
     "status": "ok",
     "timestamp": 1693421962897,
     "user": {
      "displayName": "RISAT RAHAMAN",
      "userId": "06017538946174707181"
     },
     "user_tz": -360
    },
    "id": "AAcTi94lkUC3"
   },
   "outputs": [],
   "source": [
    "# Load pre-trained GloVe embeddings (MUST RUN!)\n",
    "glove_embeddings_index = {}\n",
    "\n",
    "glove = '/content/drive/My Drive/CSE440 Project/glove.6B.100d.txt'\n",
    "with open(glove, encoding='utf-8') as f:\n",
    "    for line in f:\n",
    "        values = line.split()\n",
    "        word = values[0]\n",
    "        coefs = np.asarray(values[1:], dtype='float32')\n",
    "        glove_embeddings_index[word] = coefs\n",
    "\n",
    "# Create an embedding matrix\n",
    "embedding_dim = 100\n",
    "embedding_matrix = np.zeros((len(tokenizer.word_index) + 1, embedding_dim))\n",
    "for word, i in tokenizer.word_index.items():\n",
    "    embedding_vector = glove_embeddings_index.get(word)\n",
    "    if embedding_vector is not None:\n",
    "        embedding_matrix[i] = embedding_vector\n",
    "\n",
    "\n",
    "# LSTM function\n",
    "def lstm_function(y_train, y_test, feature):\n",
    "  # Build the LSTM model with pre-trained embeddings\n",
    "  model = Sequential([\n",
    "      Embedding(input_dim=len(tokenizer.word_index) + 1, output_dim=embedding_dim, weights=[embedding_matrix], input_length=max_sequence_length, trainable=False),\n",
    "      LSTM(64),\n",
    "      Dense(1, activation='sigmoid')\n",
    "  ])\n",
    "\n",
    "  # Compile the model\n",
    "  model.compile(optimizer='adam', loss='binary_crossentropy', metrics=['accuracy'])\n",
    "\n",
    "  filePath = f'/content/drive/My Drive/CSE440 Project/{feature}ModelStoreLSTM.h5'  # Specify the path for the model checkpoint\n",
    "  checkpoint = ModelCheckpoint(filePath, monitor='val_accuracy', verbose=1, save_best_only=True, mode='max')\n",
    "  csv_logger = CSVLogger(f'/content/drive/My Drive/CSE440 Project/{feature}TrainingLSTM.log')\n",
    "  early_stopping = EarlyStopping(monitor='val_loss', patience=5)\n",
    "  callbacks_list = [checkpoint, csv_logger, early_stopping]\n",
    "\n",
    "  # Train Machine\n",
    "  model.fit(padded_sequences_train, y_train, epochs=500, validation_split=0.1, callbacks=callbacks_list)\n",
    "\n",
    "  # Evaluate the model\n",
    "  loss, accuracy = model.evaluate(padded_sequences_test, y_test)\n",
    "\n",
    "  return loss, accuracy"
   ]
  },
  {
   "cell_type": "code",
   "execution_count": 181,
   "metadata": {
    "colab": {
     "base_uri": "https://localhost:8080/"
    },
    "executionInfo": {
     "elapsed": 221904,
     "status": "ok",
     "timestamp": 1693422184795,
     "user": {
      "displayName": "RISAT RAHAMAN",
      "userId": "06017538946174707181"
     },
     "user_tz": -360
    },
    "id": "-_pDYrHdgmeZ",
    "outputId": "ee5da4c1-273b-4789-e9c9-e99033c19ddb"
   },
   "outputs": [
    {
     "name": "stdout",
     "output_type": "stream",
     "text": [
      "Epoch 1/500\n",
      "25/25 [==============================] - ETA: 0s - loss: 0.5904 - accuracy: 0.7910\n",
      "Epoch 1: val_accuracy improved from -inf to 0.83908, saving model to /content/drive/My Drive/CSE440 Project/sarcasmModelStoreLSTM.h5\n",
      "25/25 [==============================] - 7s 133ms/step - loss: 0.5904 - accuracy: 0.7910 - val_loss: 0.4691 - val_accuracy: 0.8391\n",
      "Epoch 2/500\n",
      "25/25 [==============================] - ETA: 0s - loss: 0.4806 - accuracy: 0.8205\n",
      "Epoch 2: val_accuracy did not improve from 0.83908\n",
      "25/25 [==============================] - 2s 81ms/step - loss: 0.4806 - accuracy: 0.8205 - val_loss: 0.4619 - val_accuracy: 0.8391\n",
      "Epoch 3/500\n",
      "25/25 [==============================] - ETA: 0s - loss: 0.4746 - accuracy: 0.8205\n",
      "Epoch 3: val_accuracy did not improve from 0.83908\n",
      "25/25 [==============================] - 2s 84ms/step - loss: 0.4746 - accuracy: 0.8205 - val_loss: 0.4448 - val_accuracy: 0.8391\n",
      "Epoch 4/500\n",
      "25/25 [==============================] - ETA: 0s - loss: 0.4727 - accuracy: 0.8205\n",
      "Epoch 4: val_accuracy did not improve from 0.83908\n",
      "25/25 [==============================] - 2s 81ms/step - loss: 0.4727 - accuracy: 0.8205 - val_loss: 0.4413 - val_accuracy: 0.8391\n",
      "Epoch 5/500\n",
      "25/25 [==============================] - ETA: 0s - loss: 0.4734 - accuracy: 0.8205\n",
      "Epoch 5: val_accuracy did not improve from 0.83908\n",
      "25/25 [==============================] - 2s 81ms/step - loss: 0.4734 - accuracy: 0.8205 - val_loss: 0.4418 - val_accuracy: 0.8391\n",
      "Epoch 6/500\n",
      "25/25 [==============================] - ETA: 0s - loss: 0.4717 - accuracy: 0.8205\n",
      "Epoch 6: val_accuracy did not improve from 0.83908\n",
      "25/25 [==============================] - 3s 132ms/step - loss: 0.4717 - accuracy: 0.8205 - val_loss: 0.4415 - val_accuracy: 0.8391\n",
      "Epoch 7/500\n",
      "25/25 [==============================] - ETA: 0s - loss: 0.4733 - accuracy: 0.8205\n",
      "Epoch 7: val_accuracy did not improve from 0.83908\n",
      "25/25 [==============================] - 3s 113ms/step - loss: 0.4733 - accuracy: 0.8205 - val_loss: 0.4434 - val_accuracy: 0.8391\n",
      "Epoch 8/500\n",
      "25/25 [==============================] - ETA: 0s - loss: 0.4714 - accuracy: 0.8205\n",
      "Epoch 8: val_accuracy did not improve from 0.83908\n",
      "25/25 [==============================] - 2s 79ms/step - loss: 0.4714 - accuracy: 0.8205 - val_loss: 0.4425 - val_accuracy: 0.8391\n",
      "Epoch 9/500\n",
      "25/25 [==============================] - ETA: 0s - loss: 0.4715 - accuracy: 0.8205\n",
      "Epoch 9: val_accuracy did not improve from 0.83908\n",
      "25/25 [==============================] - 2s 79ms/step - loss: 0.4715 - accuracy: 0.8205 - val_loss: 0.4436 - val_accuracy: 0.8391\n",
      "44/44 [==============================] - 2s 37ms/step - loss: 1.4868 - accuracy: 0.1286\n",
      "Epoch 1/500\n",
      "25/25 [==============================] - ETA: 0s - loss: 0.5734 - accuracy: 0.8192\n",
      "Epoch 1: val_accuracy improved from -inf to 0.83908, saving model to /content/drive/My Drive/CSE440 Project/ironyModelStoreLSTM.h5\n",
      "25/25 [==============================] - 5s 104ms/step - loss: 0.5734 - accuracy: 0.8192 - val_loss: 0.4684 - val_accuracy: 0.8391\n",
      "Epoch 2/500\n",
      "25/25 [==============================] - ETA: 0s - loss: 0.4805 - accuracy: 0.8192\n",
      "Epoch 2: val_accuracy did not improve from 0.83908\n",
      "25/25 [==============================] - 2s 82ms/step - loss: 0.4805 - accuracy: 0.8192 - val_loss: 0.4421 - val_accuracy: 0.8391\n",
      "Epoch 3/500\n",
      "25/25 [==============================] - ETA: 0s - loss: 0.4744 - accuracy: 0.8192\n",
      "Epoch 3: val_accuracy did not improve from 0.83908\n",
      "25/25 [==============================] - 2s 92ms/step - loss: 0.4744 - accuracy: 0.8192 - val_loss: 0.4429 - val_accuracy: 0.8391\n",
      "Epoch 4/500\n",
      "25/25 [==============================] - ETA: 0s - loss: 0.4738 - accuracy: 0.8192\n",
      "Epoch 4: val_accuracy did not improve from 0.83908\n",
      "25/25 [==============================] - 3s 136ms/step - loss: 0.4738 - accuracy: 0.8192 - val_loss: 0.4421 - val_accuracy: 0.8391\n",
      "Epoch 5/500\n",
      "25/25 [==============================] - ETA: 0s - loss: 0.4751 - accuracy: 0.8192\n",
      "Epoch 5: val_accuracy did not improve from 0.83908\n",
      "25/25 [==============================] - 2s 90ms/step - loss: 0.4751 - accuracy: 0.8192 - val_loss: 0.4425 - val_accuracy: 0.8391\n",
      "Epoch 6/500\n",
      "25/25 [==============================] - ETA: 0s - loss: 0.4751 - accuracy: 0.8192\n",
      "Epoch 6: val_accuracy did not improve from 0.83908\n",
      "25/25 [==============================] - 2s 81ms/step - loss: 0.4751 - accuracy: 0.8192 - val_loss: 0.4472 - val_accuracy: 0.8391\n",
      "Epoch 7/500\n",
      "25/25 [==============================] - ETA: 0s - loss: 0.4763 - accuracy: 0.8192\n",
      "Epoch 7: val_accuracy did not improve from 0.83908\n",
      "25/25 [==============================] - 2s 81ms/step - loss: 0.4763 - accuracy: 0.8192 - val_loss: 0.4413 - val_accuracy: 0.8391\n",
      "Epoch 8/500\n",
      "25/25 [==============================] - ETA: 0s - loss: 0.4731 - accuracy: 0.8192\n",
      "Epoch 8: val_accuracy did not improve from 0.83908\n",
      "25/25 [==============================] - 2s 79ms/step - loss: 0.4731 - accuracy: 0.8192 - val_loss: 0.4457 - val_accuracy: 0.8391\n",
      "Epoch 9/500\n",
      "25/25 [==============================] - ETA: 0s - loss: 0.4764 - accuracy: 0.8192\n",
      "Epoch 9: val_accuracy did not improve from 0.83908\n",
      "25/25 [==============================] - 2s 83ms/step - loss: 0.4764 - accuracy: 0.8192 - val_loss: 0.4456 - val_accuracy: 0.8391\n",
      "Epoch 10/500\n",
      "25/25 [==============================] - ETA: 0s - loss: 0.4726 - accuracy: 0.8192\n",
      "Epoch 10: val_accuracy did not improve from 0.83908\n",
      "25/25 [==============================] - 3s 133ms/step - loss: 0.4726 - accuracy: 0.8192 - val_loss: 0.4416 - val_accuracy: 0.8391\n",
      "Epoch 11/500\n",
      "25/25 [==============================] - ETA: 0s - loss: 0.4750 - accuracy: 0.8192\n",
      "Epoch 11: val_accuracy did not improve from 0.83908\n",
      "25/25 [==============================] - 3s 112ms/step - loss: 0.4750 - accuracy: 0.8192 - val_loss: 0.4423 - val_accuracy: 0.8391\n",
      "Epoch 12/500\n",
      "25/25 [==============================] - ETA: 0s - loss: 0.4740 - accuracy: 0.8192\n",
      "Epoch 12: val_accuracy did not improve from 0.83908\n",
      "25/25 [==============================] - 2s 78ms/step - loss: 0.4740 - accuracy: 0.8192 - val_loss: 0.4459 - val_accuracy: 0.8391\n",
      "44/44 [==============================] - 2s 25ms/step - loss: 0.2411 - accuracy: 0.9857\n",
      "Epoch 1/500\n",
      "25/25 [==============================] - ETA: 0s - loss: 0.4241 - accuracy: 0.9692\n",
      "Epoch 1: val_accuracy improved from -inf to 0.98851, saving model to /content/drive/My Drive/CSE440 Project/satireModelStoreLSTM.h5\n",
      "25/25 [==============================] - 5s 104ms/step - loss: 0.4241 - accuracy: 0.9692 - val_loss: 0.0634 - val_accuracy: 0.9885\n",
      "Epoch 2/500\n",
      "25/25 [==============================] - ETA: 0s - loss: 0.1405 - accuracy: 0.9692\n",
      "Epoch 2: val_accuracy did not improve from 0.98851\n",
      "25/25 [==============================] - 4s 142ms/step - loss: 0.1405 - accuracy: 0.9692 - val_loss: 0.0710 - val_accuracy: 0.9885\n",
      "Epoch 3/500\n",
      "25/25 [==============================] - ETA: 0s - loss: 0.1381 - accuracy: 0.9692\n",
      "Epoch 3: val_accuracy did not improve from 0.98851\n",
      "25/25 [==============================] - 2s 94ms/step - loss: 0.1381 - accuracy: 0.9692 - val_loss: 0.0746 - val_accuracy: 0.9885\n",
      "Epoch 4/500\n",
      "25/25 [==============================] - ETA: 0s - loss: 0.1383 - accuracy: 0.9692\n",
      "Epoch 4: val_accuracy did not improve from 0.98851\n",
      "25/25 [==============================] - 2s 80ms/step - loss: 0.1383 - accuracy: 0.9692 - val_loss: 0.0688 - val_accuracy: 0.9885\n",
      "Epoch 5/500\n",
      "25/25 [==============================] - ETA: 0s - loss: 0.1407 - accuracy: 0.9692\n",
      "Epoch 5: val_accuracy did not improve from 0.98851\n",
      "25/25 [==============================] - 2s 77ms/step - loss: 0.1407 - accuracy: 0.9692 - val_loss: 0.0712 - val_accuracy: 0.9885\n",
      "Epoch 6/500\n",
      "25/25 [==============================] - ETA: 0s - loss: 0.1386 - accuracy: 0.9692\n",
      "Epoch 6: val_accuracy did not improve from 0.98851\n",
      "25/25 [==============================] - 2s 78ms/step - loss: 0.1386 - accuracy: 0.9692 - val_loss: 0.0725 - val_accuracy: 0.9885\n",
      "44/44 [==============================] - 2s 24ms/step - loss: 0.1518 - accuracy: 0.9650\n",
      "Epoch 1/500\n",
      "25/25 [==============================] - ETA: 0s - loss: 0.4051 - accuracy: 0.9885\n",
      "Epoch 1: val_accuracy improved from -inf to 0.98851, saving model to /content/drive/My Drive/CSE440 Project/understatementModelStoreLSTM.h5\n",
      "25/25 [==============================] - 5s 104ms/step - loss: 0.4051 - accuracy: 0.9885 - val_loss: 0.0649 - val_accuracy: 0.9885\n",
      "Epoch 2/500\n",
      "25/25 [==============================] - ETA: 0s - loss: 0.0665 - accuracy: 0.9885\n",
      "Epoch 2: val_accuracy did not improve from 0.98851\n",
      "25/25 [==============================] - 2s 80ms/step - loss: 0.0665 - accuracy: 0.9885 - val_loss: 0.0635 - val_accuracy: 0.9885\n",
      "Epoch 3/500\n",
      "25/25 [==============================] - ETA: 0s - loss: 0.0633 - accuracy: 0.9885\n",
      "Epoch 3: val_accuracy did not improve from 0.98851\n",
      "25/25 [==============================] - 3s 128ms/step - loss: 0.0633 - accuracy: 0.9885 - val_loss: 0.0628 - val_accuracy: 0.9885\n",
      "Epoch 4/500\n",
      "25/25 [==============================] - ETA: 0s - loss: 0.0638 - accuracy: 0.9885\n",
      "Epoch 4: val_accuracy did not improve from 0.98851\n",
      "25/25 [==============================] - 3s 116ms/step - loss: 0.0638 - accuracy: 0.9885 - val_loss: 0.0628 - val_accuracy: 0.9885\n",
      "Epoch 5/500\n",
      "25/25 [==============================] - ETA: 0s - loss: 0.0639 - accuracy: 0.9885\n",
      "Epoch 5: val_accuracy did not improve from 0.98851\n",
      "25/25 [==============================] - 2s 81ms/step - loss: 0.0639 - accuracy: 0.9885 - val_loss: 0.0631 - val_accuracy: 0.9885\n",
      "Epoch 6/500\n",
      "25/25 [==============================] - ETA: 0s - loss: 0.0631 - accuracy: 0.9885\n",
      "Epoch 6: val_accuracy did not improve from 0.98851\n",
      "25/25 [==============================] - 2s 83ms/step - loss: 0.0631 - accuracy: 0.9885 - val_loss: 0.0632 - val_accuracy: 0.9885\n",
      "Epoch 7/500\n",
      "25/25 [==============================] - ETA: 0s - loss: 0.0632 - accuracy: 0.9885\n",
      "Epoch 7: val_accuracy did not improve from 0.98851\n",
      "25/25 [==============================] - 2s 83ms/step - loss: 0.0632 - accuracy: 0.9885 - val_loss: 0.0628 - val_accuracy: 0.9885\n",
      "Epoch 8/500\n",
      "25/25 [==============================] - ETA: 0s - loss: 0.0647 - accuracy: 0.9885\n",
      "Epoch 8: val_accuracy did not improve from 0.98851\n",
      "25/25 [==============================] - 2s 84ms/step - loss: 0.0647 - accuracy: 0.9885 - val_loss: 0.0628 - val_accuracy: 0.9885\n",
      "Epoch 9/500\n",
      "25/25 [==============================] - ETA: 0s - loss: 0.0632 - accuracy: 0.9885\n",
      "Epoch 9: val_accuracy did not improve from 0.98851\n",
      "25/25 [==============================] - 3s 115ms/step - loss: 0.0632 - accuracy: 0.9885 - val_loss: 0.0628 - val_accuracy: 0.9885\n",
      "Epoch 10/500\n",
      "25/25 [==============================] - ETA: 0s - loss: 0.0632 - accuracy: 0.9885\n",
      "Epoch 10: val_accuracy did not improve from 0.98851\n",
      "25/25 [==============================] - 3s 130ms/step - loss: 0.0632 - accuracy: 0.9885 - val_loss: 0.0628 - val_accuracy: 0.9885\n",
      "Epoch 11/500\n",
      "25/25 [==============================] - ETA: 0s - loss: 0.0640 - accuracy: 0.9885\n",
      "Epoch 11: val_accuracy did not improve from 0.98851\n",
      "25/25 [==============================] - 2s 83ms/step - loss: 0.0640 - accuracy: 0.9885 - val_loss: 0.0630 - val_accuracy: 0.9885\n",
      "Epoch 12/500\n",
      "25/25 [==============================] - ETA: 0s - loss: 0.0627 - accuracy: 0.9885\n",
      "Epoch 12: val_accuracy did not improve from 0.98851\n",
      "25/25 [==============================] - 2s 83ms/step - loss: 0.0627 - accuracy: 0.9885 - val_loss: 0.0633 - val_accuracy: 0.9885\n",
      "44/44 [==============================] - 2s 26ms/step - loss: 0.0183 - accuracy: 0.9993\n",
      "Epoch 1/500\n",
      "25/25 [==============================] - ETA: 0s - loss: 0.4515 - accuracy: 0.9526\n",
      "Epoch 1: val_accuracy improved from -inf to 0.96552, saving model to /content/drive/My Drive/CSE440 Project/overstatementModelStoreLSTM.h5\n",
      "25/25 [==============================] - 5s 122ms/step - loss: 0.4515 - accuracy: 0.9526 - val_loss: 0.1570 - val_accuracy: 0.9655\n",
      "Epoch 2/500\n",
      "25/25 [==============================] - ETA: 0s - loss: 0.2009 - accuracy: 0.9526\n",
      "Epoch 2: val_accuracy did not improve from 0.96552\n",
      "25/25 [==============================] - 3s 135ms/step - loss: 0.2009 - accuracy: 0.9526 - val_loss: 0.1536 - val_accuracy: 0.9655\n",
      "Epoch 3/500\n",
      "25/25 [==============================] - ETA: 0s - loss: 0.1927 - accuracy: 0.9526\n",
      "Epoch 3: val_accuracy did not improve from 0.96552\n",
      "25/25 [==============================] - 2s 82ms/step - loss: 0.1927 - accuracy: 0.9526 - val_loss: 0.1501 - val_accuracy: 0.9655\n",
      "Epoch 4/500\n",
      "25/25 [==============================] - ETA: 0s - loss: 0.1954 - accuracy: 0.9526\n",
      "Epoch 4: val_accuracy did not improve from 0.96552\n",
      "25/25 [==============================] - 2s 79ms/step - loss: 0.1954 - accuracy: 0.9526 - val_loss: 0.1525 - val_accuracy: 0.9655\n",
      "Epoch 5/500\n",
      "25/25 [==============================] - ETA: 0s - loss: 0.1927 - accuracy: 0.9526\n",
      "Epoch 5: val_accuracy did not improve from 0.96552\n",
      "25/25 [==============================] - 2s 77ms/step - loss: 0.1927 - accuracy: 0.9526 - val_loss: 0.1521 - val_accuracy: 0.9655\n",
      "Epoch 6/500\n",
      "25/25 [==============================] - ETA: 0s - loss: 0.1919 - accuracy: 0.9526\n",
      "Epoch 6: val_accuracy did not improve from 0.96552\n",
      "25/25 [==============================] - 2s 82ms/step - loss: 0.1919 - accuracy: 0.9526 - val_loss: 0.1522 - val_accuracy: 0.9655\n",
      "Epoch 7/500\n",
      "25/25 [==============================] - ETA: 0s - loss: 0.1915 - accuracy: 0.9526\n",
      "Epoch 7: val_accuracy did not improve from 0.96552\n",
      "25/25 [==============================] - 2s 83ms/step - loss: 0.1915 - accuracy: 0.9526 - val_loss: 0.1509 - val_accuracy: 0.9655\n",
      "Epoch 8/500\n",
      "25/25 [==============================] - ETA: 0s - loss: 0.1924 - accuracy: 0.9526\n",
      "Epoch 8: val_accuracy did not improve from 0.96552\n",
      "25/25 [==============================] - 3s 135ms/step - loss: 0.1924 - accuracy: 0.9526 - val_loss: 0.1537 - val_accuracy: 0.9655\n",
      "44/44 [==============================] - 3s 27ms/step - loss: 0.0747 - accuracy: 0.9929\n",
      "Epoch 1/500\n",
      "25/25 [==============================] - ETA: 0s - loss: 0.5166 - accuracy: 0.8897\n",
      "Epoch 1: val_accuracy improved from -inf to 0.81609, saving model to /content/drive/My Drive/CSE440 Project/rhetoricalQuestionModelStoreLSTM.h5\n",
      "25/25 [==============================] - 5s 110ms/step - loss: 0.5166 - accuracy: 0.8897 - val_loss: 0.5778 - val_accuracy: 0.8161\n",
      "Epoch 2/500\n",
      "25/25 [==============================] - ETA: 0s - loss: 0.3498 - accuracy: 0.8910\n",
      "Epoch 2: val_accuracy did not improve from 0.81609\n",
      "25/25 [==============================] - 2s 82ms/step - loss: 0.3498 - accuracy: 0.8910 - val_loss: 0.5114 - val_accuracy: 0.8161\n",
      "Epoch 3/500\n",
      "25/25 [==============================] - ETA: 0s - loss: 0.3491 - accuracy: 0.8910\n",
      "Epoch 3: val_accuracy did not improve from 0.81609\n",
      "25/25 [==============================] - 3s 131ms/step - loss: 0.3491 - accuracy: 0.8910 - val_loss: 0.5007 - val_accuracy: 0.8161\n",
      "Epoch 4/500\n",
      "25/25 [==============================] - ETA: 0s - loss: 0.3455 - accuracy: 0.8910\n",
      "Epoch 4: val_accuracy did not improve from 0.81609\n",
      "25/25 [==============================] - 3s 117ms/step - loss: 0.3455 - accuracy: 0.8910 - val_loss: 0.5162 - val_accuracy: 0.8161\n",
      "Epoch 5/500\n",
      "25/25 [==============================] - ETA: 0s - loss: 0.3499 - accuracy: 0.8910\n",
      "Epoch 5: val_accuracy did not improve from 0.81609\n",
      "25/25 [==============================] - 2s 81ms/step - loss: 0.3499 - accuracy: 0.8910 - val_loss: 0.4983 - val_accuracy: 0.8161\n",
      "Epoch 6/500\n",
      "25/25 [==============================] - ETA: 0s - loss: 0.3464 - accuracy: 0.8910\n",
      "Epoch 6: val_accuracy did not improve from 0.81609\n",
      "25/25 [==============================] - 2s 85ms/step - loss: 0.3464 - accuracy: 0.8910 - val_loss: 0.5086 - val_accuracy: 0.8161\n",
      "Epoch 7/500\n",
      "25/25 [==============================] - ETA: 0s - loss: 0.3451 - accuracy: 0.8910\n",
      "Epoch 7: val_accuracy did not improve from 0.81609\n",
      "25/25 [==============================] - 2s 84ms/step - loss: 0.3451 - accuracy: 0.8910 - val_loss: 0.5008 - val_accuracy: 0.8161\n",
      "Epoch 8/500\n",
      "25/25 [==============================] - ETA: 0s - loss: 0.3465 - accuracy: 0.8910\n",
      "Epoch 8: val_accuracy did not improve from 0.81609\n",
      "25/25 [==============================] - 2s 81ms/step - loss: 0.3465 - accuracy: 0.8910 - val_loss: 0.4920 - val_accuracy: 0.8161\n",
      "Epoch 9/500\n",
      "25/25 [==============================] - ETA: 0s - loss: 0.3461 - accuracy: 0.8910\n",
      "Epoch 9: val_accuracy did not improve from 0.81609\n",
      "25/25 [==============================] - 3s 118ms/step - loss: 0.3461 - accuracy: 0.8910 - val_loss: 0.4985 - val_accuracy: 0.8161\n",
      "Epoch 10/500\n",
      "25/25 [==============================] - ETA: 0s - loss: 0.3483 - accuracy: 0.8910\n",
      "Epoch 10: val_accuracy did not improve from 0.81609\n",
      "25/25 [==============================] - 3s 130ms/step - loss: 0.3483 - accuracy: 0.8910 - val_loss: 0.5082 - val_accuracy: 0.8161\n",
      "Epoch 11/500\n",
      "25/25 [==============================] - ETA: 0s - loss: 0.3462 - accuracy: 0.8910\n",
      "Epoch 11: val_accuracy did not improve from 0.81609\n",
      "25/25 [==============================] - 2s 83ms/step - loss: 0.3462 - accuracy: 0.8910 - val_loss: 0.4981 - val_accuracy: 0.8161\n",
      "Epoch 12/500\n",
      "25/25 [==============================] - ETA: 0s - loss: 0.3492 - accuracy: 0.8910\n",
      "Epoch 12: val_accuracy did not improve from 0.81609\n",
      "25/25 [==============================] - 2s 83ms/step - loss: 0.3492 - accuracy: 0.8910 - val_loss: 0.4924 - val_accuracy: 0.8161\n",
      "Epoch 13/500\n",
      "25/25 [==============================] - ETA: 0s - loss: 0.3471 - accuracy: 0.8910\n",
      "Epoch 13: val_accuracy did not improve from 0.81609\n",
      "25/25 [==============================] - 2s 81ms/step - loss: 0.3471 - accuracy: 0.8910 - val_loss: 0.5054 - val_accuracy: 0.8161\n",
      "44/44 [==============================] - 2s 27ms/step - loss: 0.1274 - accuracy: 0.9921\n"
     ]
    }
   ],
   "source": [
    "# Loss and Accuracy of the 6 features\n",
    "sarcasm_loss, sarcasm_accuracy = lstm_function(y_train_sarcasm, y_test_sarcasm, 'sarcasm') # Sarcasm\n",
    "irony_loss, irony_accuracy = lstm_function(y_train_irony, y_test_irony, 'irony') # Irony\n",
    "satire_loss, satire_accuracy = lstm_function(y_train_satire, y_test_satire, 'satire') # Satire\n",
    "understatement_loss, understatement_accuracy = lstm_function(y_train_understatement, y_test_understatement, 'understatement') # Understatement\n",
    "overstatement_loss, overstatement_accuracy = lstm_function(y_train_overstatement, y_test_overstatement, 'overstatement') # Overstatement\n",
    "question_loss, question_accuracy = lstm_function(y_train_question, y_test_question, 'rhetoricalQuestion') # Rhetorical Question"
   ]
  },
  {
   "cell_type": "code",
   "execution_count": 182,
   "metadata": {
    "colab": {
     "base_uri": "https://localhost:8080/"
    },
    "executionInfo": {
     "elapsed": 9,
     "status": "ok",
     "timestamp": 1693422184795,
     "user": {
      "displayName": "RISAT RAHAMAN",
      "userId": "06017538946174707181"
     },
     "user_tz": -360
    },
    "id": "ew7wAspTj9fn",
    "outputId": "5334b313-a0b9-45c7-c47e-6746cf7af37c"
   },
   "outputs": [
    {
     "name": "stdout",
     "output_type": "stream",
     "text": [
      "Sarcasm Accuracy: 12.86\n",
      "Irony Accuracy: 98.57\n",
      "Satire Accuracy: 96.5\n",
      "Understatement Accuracy: 99.93\n",
      "Overstatement Accuracy: 99.29\n",
      "Rhetorical Question Accuracy: 99.21\n",
      "\n",
      "Sarcasm Loss: 148.68\n",
      "Irony Loss: 24.11\n",
      "Satire Loss: 15.18\n",
      "Understatement Loss: 1.83\n",
      "Overstatement Loss: 7.47\n",
      "Rhetorical Question Loss: 12.74\n"
     ]
    }
   ],
   "source": [
    "print(\"Sarcasm Accuracy:\", round(sarcasm_accuracy*100, 2))\n",
    "print(\"Irony Accuracy:\", round(irony_accuracy*100, 2))\n",
    "print(\"Satire Accuracy:\", round(satire_accuracy*100, 2))\n",
    "print(\"Understatement Accuracy:\", round(understatement_accuracy*100, 2))\n",
    "print(\"Overstatement Accuracy:\", round(overstatement_accuracy*100, 2))\n",
    "print(\"Rhetorical Question Accuracy:\", round(question_accuracy*100, 2))\n",
    "print()\n",
    "print(\"Sarcasm Loss:\", round(sarcasm_loss*100, 2))\n",
    "print(\"Irony Loss:\", round(irony_loss*100, 2))\n",
    "print(\"Satire Loss:\", round(satire_loss*100, 2))\n",
    "print(\"Understatement Loss:\", round(understatement_loss*100, 2))\n",
    "print(\"Overstatement Loss:\", round(overstatement_loss*100, 2))\n",
    "print(\"Rhetorical Question Loss:\", round(question_loss*100, 2))"
   ]
  },
  {
   "cell_type": "code",
   "execution_count": 183,
   "metadata": {
    "executionInfo": {
     "elapsed": 3,
     "status": "ok",
     "timestamp": 1693422184796,
     "user": {
      "displayName": "RISAT RAHAMAN",
      "userId": "06017538946174707181"
     },
     "user_tz": -360
    },
    "id": "67uzEE6KqO7H"
   },
   "outputs": [],
   "source": [
    "# Task B calculate precision, recall, f1 and confusion matrix\n",
    "\n",
    "def precision_recall_f1_cm(feature, y_test):\n",
    "  # Load trained model\n",
    "  model = load_model(f'/content/drive/My Drive/CSE440 Project/{feature}ModelStoreLSTM.h5')\n",
    "\n",
    "  # Get predictions using model.predict\n",
    "  y_pred = model.predict(padded_sequences_test)\n",
    "\n",
    "  # Calculate threshold\n",
    "  precision, recall, thresholds = precision_recall_curve(y_test, y_pred)\n",
    "  f1_scores = 2 * (precision * recall) / (precision + recall + 1e-8)\n",
    "  best_f1_index = np.argmax(f1_scores)\n",
    "  threshold = thresholds[best_f1_index]\n",
    "\n",
    "  # Convert probabilities to class labels\n",
    "  y_pred = (y_pred > threshold).astype(int)\n",
    "\n",
    "\n",
    "  precision, recall, f1, support = precision_recall_fscore_support(y_test, y_pred, pos_label=1)\n",
    "  cm = confusion_matrix(y_test, y_pred)\n",
    "\n",
    "  return precision[0], recall[0], f1[0], cm"
   ]
  },
  {
   "cell_type": "code",
   "execution_count": 184,
   "metadata": {
    "colab": {
     "base_uri": "https://localhost:8080/",
     "height": 517
    },
    "executionInfo": {
     "elapsed": 2874,
     "status": "ok",
     "timestamp": 1693422187668,
     "user": {
      "displayName": "RISAT RAHAMAN",
      "userId": "06017538946174707181"
     },
     "user_tz": -360
    },
    "id": "ExurY1O7q8Qw",
    "outputId": "dbf23230-52be-4faa-f984-9d1b61236899"
   },
   "outputs": [
    {
     "name": "stdout",
     "output_type": "stream",
     "text": [
      "44/44 [==============================] - 2s 26ms/step\n",
      "sarcasm precision: 0.9245\n",
      "sarcasm recall: 0.7623\n",
      "sarcasm f1 Score: 0.8356\n"
     ]
    },
    {
     "data": {
      "text/plain": [
       "<Axes: >"
      ]
     },
     "execution_count": 184,
     "metadata": {},
     "output_type": "execute_result"
    },
    {
     "data": {
      "image/png": "[encoded data removed]",
      "text/plain": [
       "<Figure size 640x480 with 2 Axes>"
      ]
     },
     "metadata": {},
     "output_type": "display_data"
    }
   ],
   "source": [
    "# Sarcasm Output\n",
    "sarcasm_precision, sarcasm_recall, sarcasm_f1, sarcasm_cm = precision_recall_f1_cm('sarcasm', y_test_sarcasm)\n",
    "print(\"sarcasm precision:\", round(sarcasm_precision, 4))\n",
    "print(\"sarcasm recall:\", round(sarcasm_recall, 4))\n",
    "print(\"sarcasm f1 Score:\", round(sarcasm_f1, 4))\n",
    "sns.heatmap(sarcasm_cm, annot=True, cmap='Pastel1_r', xticklabels=['sarcasm' ,'not sarcasm'],yticklabels=['sarcasm' ,'not sarcasm'])"
   ]
  },
  {
   "cell_type": "code",
   "execution_count": 185,
   "metadata": {
    "colab": {
     "base_uri": "https://localhost:8080/",
     "height": 517
    },
    "executionInfo": {
     "elapsed": 3975,
     "status": "ok",
     "timestamp": 1693422191639,
     "user": {
      "displayName": "RISAT RAHAMAN",
      "userId": "06017538946174707181"
     },
     "user_tz": -360
    },
    "id": "AR0dXzOYsPcX",
    "outputId": "74d9d26d-b203-41a9-ba4a-0697c1239415"
   },
   "outputs": [
    {
     "name": "stdout",
     "output_type": "stream",
     "text": [
      "44/44 [==============================] - 2s 31ms/step\n",
      "irony precision: 0.9872\n",
      "irony recall: 0.4457\n",
      "irony f1 Score: 0.6141\n"
     ]
    },
    {
     "data": {
      "text/plain": [
       "<Axes: >"
      ]
     },
     "execution_count": 185,
     "metadata": {},
     "output_type": "execute_result"
    },
    {
     "data": {
      "image/png": "[encoded data removed]",
      "text/plain": [
       "<Figure size 640x480 with 2 Axes>"
      ]
     },
     "metadata": {},
     "output_type": "display_data"
    }
   ],
   "source": [
    "# Irony Output\n",
    "\n",
    "irony_precision, irony_recall, irony_f1, irony_cm = precision_recall_f1_cm('irony', y_test_irony)\n",
    "print(\"irony precision:\", round(irony_precision, 4))\n",
    "print(\"irony recall:\", round(irony_recall, 4))\n",
    "print(\"irony f1 Score:\", round(irony_f1, 4))\n",
    "sns.heatmap(irony_cm, annot=True, cmap='Pastel1_r', xticklabels=['irony' ,'not irony'],yticklabels=['irony' ,'not irony'])"
   ]
  },
  {
   "cell_type": "code",
   "execution_count": 186,
   "metadata": {
    "colab": {
     "base_uri": "https://localhost:8080/",
     "height": 517
    },
    "executionInfo": {
     "elapsed": 3467,
     "status": "ok",
     "timestamp": 1693422195102,
     "user": {
      "displayName": "RISAT RAHAMAN",
      "userId": "06017538946174707181"
     },
     "user_tz": -360
    },
    "id": "htgdAouOseZH",
    "outputId": "d30df484-bddf-4cac-f25d-7be59e82eacc"
   },
   "outputs": [
    {
     "name": "stdout",
     "output_type": "stream",
     "text": [
      "44/44 [==============================] - 2s 25ms/step\n",
      "satire precision: 0.9286\n",
      "satire recall: 0.0192\n",
      "satire f1 Score: 0.0377\n"
     ]
    },
    {
     "data": {
      "text/plain": [
       "<Axes: >"
      ]
     },
     "execution_count": 186,
     "metadata": {},
     "output_type": "execute_result"
    },
    {
     "data": {
      "image/png": "[encoded data removed]",
      "text/plain": [
       "<Figure size 640x480 with 2 Axes>"
      ]
     },
     "metadata": {},
     "output_type": "display_data"
    }
   ],
   "source": [
    "# Satire Output\n",
    "\n",
    "satire_precision, satire_recall, satire_f1, satire_cm = precision_recall_f1_cm('satire', y_test_satire)\n",
    "print(\"satire precision:\", round(satire_precision, 4))\n",
    "print(\"satire recall:\", round(satire_recall, 4))\n",
    "print(\"satire f1 Score:\", round(satire_f1, 4))\n",
    "sns.heatmap(satire_cm, annot=True, cmap='Pastel1_r', xticklabels=['satire' ,'not satire'],yticklabels=['satire' ,'not satire'])"
   ]
  },
  {
   "cell_type": "code",
   "execution_count": 187,
   "metadata": {
    "colab": {
     "base_uri": "https://localhost:8080/",
     "height": 517
    },
    "executionInfo": {
     "elapsed": 2957,
     "status": "ok",
     "timestamp": 1693422198051,
     "user": {
      "displayName": "RISAT RAHAMAN",
      "userId": "06017538946174707181"
     },
     "user_tz": -360
    },
    "id": "YMsPdQZiukxg",
    "outputId": "5e873d98-1bed-4647-f4b2-6f75ef01af45"
   },
   "outputs": [
    {
     "name": "stdout",
     "output_type": "stream",
     "text": [
      "44/44 [==============================] - 2s 26ms/step\n",
      "understatement precision: 0.9993\n",
      "understatement recall: 0.9736\n",
      "understatement f1 Score: 0.9862\n"
     ]
    },
    {
     "data": {
      "text/plain": [
       "<Axes: >"
      ]
     },
     "execution_count": 187,
     "metadata": {},
     "output_type": "execute_result"
    },
    {
     "data": {
      "image/png": "[encoded data removed]",
      "text/plain": [
       "<Figure size 640x480 with 2 Axes>"
      ]
     },
     "metadata": {},
     "output_type": "display_data"
    }
   ],
   "source": [
    "# Understatement Output\n",
    "\n",
    "understatement_precision, understatement_recall, understatement_f1, understatement_cm = precision_recall_f1_cm('understatement', y_test_understatement)\n",
    "print(\"understatement precision:\", round(understatement_precision, 4))\n",
    "print(\"understatement recall:\", round(understatement_recall, 4))\n",
    "print(\"understatement f1 Score:\", round(understatement_f1, 4))\n",
    "sns.heatmap(understatement_cm, annot=True, cmap='Pastel1_r', xticklabels=['understatement' ,'not understatement'],yticklabels=['understatement' ,'not understatement'])"
   ]
  },
  {
   "cell_type": "code",
   "execution_count": 188,
   "metadata": {
    "colab": {
     "base_uri": "https://localhost:8080/",
     "height": 517
    },
    "executionInfo": {
     "elapsed": 3145,
     "status": "ok",
     "timestamp": 1693422201191,
     "user": {
      "displayName": "RISAT RAHAMAN",
      "userId": "06017538946174707181"
     },
     "user_tz": -360
    },
    "id": "k52fIpFEuoXf",
    "outputId": "6dec9dc2-855b-4ee3-95b7-d85e56b232f8"
   },
   "outputs": [
    {
     "name": "stdout",
     "output_type": "stream",
     "text": [
      "44/44 [==============================] - 2s 25ms/step\n",
      "overstatement precision: 0.0\n",
      "overstatement recall: 0.0\n",
      "overstatement f1 Score: 0.0\n"
     ]
    },
    {
     "data": {
      "text/plain": [
       "<Axes: >"
      ]
     },
     "execution_count": 188,
     "metadata": {},
     "output_type": "execute_result"
    },
    {
     "data": {
      "image/png": "[encoded data removed]",
      "text/plain": [
       "<Figure size 640x480 with 2 Axes>"
      ]
     },
     "metadata": {},
     "output_type": "display_data"
    }
   ],
   "source": [
    "# Overstatement Output\n",
    "\n",
    "overstatement_precision, overstatement_recall, overstatement_f1, overstatement_cm = precision_recall_f1_cm('overstatement', y_test_overstatement)\n",
    "print(\"overstatement precision:\", round(overstatement_precision, 4))\n",
    "print(\"overstatement recall:\", round(overstatement_recall, 4))\n",
    "print(\"overstatement f1 Score:\", round(overstatement_f1, 4))\n",
    "sns.heatmap(overstatement_cm, annot=True, cmap='Pastel1_r', xticklabels=['overstatement' ,'not overstatement'],yticklabels=['overstatement' ,'not overstatement'])"
   ]
  },
  {
   "cell_type": "code",
   "execution_count": 189,
   "metadata": {
    "colab": {
     "base_uri": "https://localhost:8080/",
     "height": 517
    },
    "executionInfo": {
     "elapsed": 4313,
     "status": "ok",
     "timestamp": 1693422205501,
     "user": {
      "displayName": "RISAT RAHAMAN",
      "userId": "06017538946174707181"
     },
     "user_tz": -360
    },
    "id": "ZYpjUgKNuzzP",
    "outputId": "0e16938f-110d-43dd-8b92-a4d542c0c4a9"
   },
   "outputs": [
    {
     "name": "stdout",
     "output_type": "stream",
     "text": [
      "44/44 [==============================] - 2s 36ms/step\n",
      "rhetorical question precision: 0.9919\n",
      "rhetorical question recall: 0.9726\n",
      "rhetorical question f1 Score: 0.9822\n"
     ]
    },
    {
     "data": {
      "text/plain": [
       "<Axes: >"
      ]
     },
     "execution_count": 189,
     "metadata": {},
     "output_type": "execute_result"
    },
    {
     "data": {
      "image/png": "[encoded data removed]",
      "text/plain": [
       "<Figure size 640x480 with 2 Axes>"
      ]
     },
     "metadata": {},
     "output_type": "display_data"
    }
   ],
   "source": [
    "# Rhetorical Question Output\n",
    "\n",
    "question_precision, question_recall, question_f1, question_cm = precision_recall_f1_cm('rhetoricalQuestion', y_test_question)\n",
    "print(\"rhetorical question precision:\", round(question_precision, 4))\n",
    "print(\"rhetorical question recall:\", round(question_recall, 4))\n",
    "print(\"rhetorical question f1 Score:\", round(question_f1, 4))\n",
    "sns.heatmap(question_cm, annot=True, cmap='Pastel1_r', xticklabels=['rhetorical question' ,'not rhetorical question'],yticklabels=['rhetorical question' ,'not rhetorical question'])"
   ]
  }
 ],
 "metadata": {
  "colab": {
   "authorship_tag": "ABX9TyMT1BFpJQct+BwsrUGC6tBm",
   "provenance": []
  },
  "kernelspec": {
   "display_name": "Python 3",
   "language": "python",
   "name": "python3"
  },
  "language_info": {
   "codemirror_mode": {
    "name": "ipython",
    "version": 3
   },
   "file_extension": ".py",
   "mimetype": "text/x-python",
   "name": "python",
   "nbconvert_exporter": "python",
   "pygments_lexer": "ipython3",
   "version": "3.8.8"
  }
 },
 "nbformat": 4,
 "nbformat_minor": 1
}
